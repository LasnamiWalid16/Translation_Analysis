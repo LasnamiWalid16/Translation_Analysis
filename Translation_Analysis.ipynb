{
 "cells": [
  {
   "cell_type": "code",
   "execution_count": 7,
   "id": "9a02e881",
   "metadata": {},
   "outputs": [],
   "source": [
    "import pandas as pd\n",
    "import matplotlib.pyplot as plt\n",
    "import numpy as np"
   ]
  },
  {
   "cell_type": "code",
   "execution_count": 10,
   "id": "22a3adb6",
   "metadata": {},
   "outputs": [],
   "source": [
    "data=pd.read_csv('traductions_2.csv')"
   ]
  },
  {
   "cell_type": "code",
   "execution_count": 11,
   "id": "b64487a6",
   "metadata": {},
   "outputs": [
    {
     "data": {
      "text/html": [
       "<div>\n",
       "<style scoped>\n",
       "    .dataframe tbody tr th:only-of-type {\n",
       "        vertical-align: middle;\n",
       "    }\n",
       "\n",
       "    .dataframe tbody tr th {\n",
       "        vertical-align: top;\n",
       "    }\n",
       "\n",
       "    .dataframe thead th {\n",
       "        text-align: right;\n",
       "    }\n",
       "</style>\n",
       "<table border=\"1\" class=\"dataframe\">\n",
       "  <thead>\n",
       "    <tr style=\"text-align: right;\">\n",
       "      <th></th>\n",
       "      <th>client_id;\"name\";\"prenom\";\"telephone\";\"traduction_id\";\"created_at\";\"id_document\";\"document\";\"prix\";\"langue\";\"nbcopie\"</th>\n",
       "    </tr>\n",
       "  </thead>\n",
       "  <tbody>\n",
       "    <tr>\n",
       "      <th>0</th>\n",
       "      <td>546;\"REBAHI\";\"AMINE\";\"0558500659\";\"701\";\"2021-...</td>\n",
       "    </tr>\n",
       "    <tr>\n",
       "      <th>1</th>\n",
       "      <td>547;\"BOUCHAFAA\";\"AMAR\";\"0770130202\";\"702\";\"202...</td>\n",
       "    </tr>\n",
       "    <tr>\n",
       "      <th>2</th>\n",
       "      <td>543;\"DEGHOUL\";\"MOHAMED\";\"0542764940\";\"697\";\"20...</td>\n",
       "    </tr>\n",
       "    <tr>\n",
       "      <th>3</th>\n",
       "      <td>544;\"MAHDADI\";\"ZHOUR\";\"0550478415\";\"698\";\"2021...</td>\n",
       "    </tr>\n",
       "    <tr>\n",
       "      <th>4</th>\n",
       "      <td>545;\"DINE\";\"AHMED\";\"0554780334\";\"700\";\"2021-10...</td>\n",
       "    </tr>\n",
       "  </tbody>\n",
       "</table>\n",
       "</div>"
      ],
      "text/plain": [
       "  client_id;\"name\";\"prenom\";\"telephone\";\"traduction_id\";\"created_at\";\"id_document\";\"document\";\"prix\";\"langue\";\"nbcopie\"\n",
       "0  546;\"REBAHI\";\"AMINE\";\"0558500659\";\"701\";\"2021-...                                                                   \n",
       "1  547;\"BOUCHAFAA\";\"AMAR\";\"0770130202\";\"702\";\"202...                                                                   \n",
       "2  543;\"DEGHOUL\";\"MOHAMED\";\"0542764940\";\"697\";\"20...                                                                   \n",
       "3  544;\"MAHDADI\";\"ZHOUR\";\"0550478415\";\"698\";\"2021...                                                                   \n",
       "4  545;\"DINE\";\"AHMED\";\"0554780334\";\"700\";\"2021-10...                                                                   "
      ]
     },
     "execution_count": 11,
     "metadata": {},
     "output_type": "execute_result"
    }
   ],
   "source": [
    "data.head()"
   ]
  }
 ],
 "metadata": {
  "kernelspec": {
   "display_name": "Python 3",
   "language": "python",
   "name": "python3"
  },
  "language_info": {
   "codemirror_mode": {
    "name": "ipython",
    "version": 3
   },
   "file_extension": ".py",
   "mimetype": "text/x-python",
   "name": "python",
   "nbconvert_exporter": "python",
   "pygments_lexer": "ipython3",
   "version": "3.8.8"
  }
 },
 "nbformat": 4,
 "nbformat_minor": 5
}
